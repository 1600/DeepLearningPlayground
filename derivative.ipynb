{
 "cells": [
  {
   "cell_type": "code",
   "execution_count": 1,
   "metadata": {},
   "outputs": [
    {
     "name": "stdout",
     "output_type": "stream",
     "text": [
      "Variable containing:\n",
      "-4\n",
      "[torch.FloatTensor of size 1]\n",
      " Variable containing:\n",
      "-4\n",
      "[torch.FloatTensor of size 1]\n",
      " Variable containing:\n",
      " 3\n",
      "[torch.FloatTensor of size 1]\n",
      "\n"
     ]
    }
   ],
   "source": [
    "import torch\n",
    "from torch.autograd import Variable\n",
    "x = Variable(torch.FloatTensor(1).fill_(-2), requires_grad=True)\n",
    "y = Variable(torch.FloatTensor(1).fill_(5), requires_grad=True)\n",
    "z = Variable(torch.FloatTensor(1).fill_(-4), requires_grad=True)\n",
    "f = (x+y)*z\n",
    "f.backward()\n",
    "print(x.grad, y.grad, z.grad)"
   ]
  },
  {
   "cell_type": "code",
   "execution_count": null,
   "metadata": {
    "collapsed": true
   },
   "outputs": [],
   "source": []
  }
 ],
 "metadata": {
  "kernelspec": {
   "display_name": "Python 3",
   "language": "python",
   "name": "python3"
  },
  "language_info": {
   "codemirror_mode": {
    "name": "ipython",
    "version": 3
   },
   "file_extension": ".py",
   "mimetype": "text/x-python",
   "name": "python",
   "nbconvert_exporter": "python",
   "pygments_lexer": "ipython3",
   "version": "3.6.1"
  }
 },
 "nbformat": 4,
 "nbformat_minor": 2
}
