{
 "cells": [
  {
   "cell_type": "code",
   "execution_count": 1,
   "metadata": {
    "collapsed": true
   },
   "outputs": [],
   "source": [
    "import numpy as np\n",
    "import matplotlib.pyplot as plt\n",
    "\n",
    "data = np.array([5.0, 5.517241379310345, 6.0344827586206895, 6.551724137931035, 7.068965517241379, 7.586206896551724, 8.10344827586207, 8.620689655172415, 9.137931034482758, 9.655172413793103, 10.172413793103448, 10.689655172413794, 11.206896551724139, 11.724137931034484, 12.24137931034483, 12.758620689655173, 13.275862068965518, 13.793103448275863, 14.310344827586208, 14.827586206896552, 15.344827586206897, 15.862068965517242, 16.379310344827587, 16.896551724137932, 17.413793103448278, 17.93103448275862, 18.448275862068968, 18.96551724137931, 19.48275862068966, 20.0])\n",
    "target = np.array([-340.12269404215346, -329.01787151361475, -358.16684042907514, -332.95028679503736, -324.63021510488863, -329.7945109232118, -294.82048934639255, -275.9009300863824, -251.4951204389137, -215.7174588376817, -184.65961245299542, -122.97454176336284, -80.82359945621296, -47.38618451212564, 10.381297253305146, 53.59727476716993, 141.3176625895072, 208.96141945099308, 283.3292405142135, 376.9623352323276, 477.54895328259215, 536.8691420071617, 630.359537093258, 747.348967435155, 855.1483635777372, 968.1934546355378, 1067.263119036753, 1198.2448178444502, 1296.570184400269, 1441.8057924476789])"
   ]
  },
  {
   "cell_type": "code",
   "execution_count": 2,
   "metadata": {},
   "outputs": [
    {
     "data": {
      "text/plain": [
       "(20,)"
      ]
     },
     "execution_count": 2,
     "metadata": {},
     "output_type": "execute_result"
    }
   ],
   "source": [
    "train_set = data[:20]\n",
    "target_set = target[:20]\n",
    "train_set.shape"
   ]
  },
  {
   "cell_type": "code",
   "execution_count": 3,
   "metadata": {},
   "outputs": [
    {
     "name": "stdout",
     "output_type": "stream",
     "text": [
      "Stopped at:\n",
      " 6.35727155943 -75.6745030105 -16.0417914731\n",
      "Took 2284 Round...\n"
     ]
    }
   ],
   "source": [
    "def step_gradient(a_prev, b_prev, c_prev, train, target, learning_rate):\n",
    "    N = len(train)\n",
    "    a_gradient = 0\n",
    "    b_gradient = 0\n",
    "    c_gradient = 0\n",
    "    \n",
    "    for i in range(0, N):\n",
    "        x = train[i]\n",
    "        y = target[i]\n",
    "        a_gradient += -2 * pow(x,2) * (y - a*pow(x,2) - b*x - c) / N\n",
    "        b_gradient += -2 * x * (y - a*pow(x,2) - b*x - c) / N\n",
    "        c_gradient += (-2*y + 2*a*x**2 + 2*b*x + 2*c)/N\n",
    "    a_new = a_prev - learning_rate * a_gradient\n",
    "    b_new = b_prev - learning_rate * b_gradient\n",
    "    c_new = c_prev - learning_rate * c_gradient\n",
    "    return a_new, b_new, c_new\n",
    "\n",
    "N = len(train_set)\n",
    "a = 0\n",
    "b = 0\n",
    "c = 0\n",
    "learning_rate = 0.00005\n",
    "\n",
    "\n",
    "def mse(seq_a,seq_b):\n",
    "    return ((seq_a - seq_b) ** 2).mean(axis=0)\n",
    "\n",
    "round = 0\n",
    "while True:\n",
    "    round += 1\n",
    "    a_new,b_new,c_new = step_gradient(a ,b, c, train_set, target_set, learning_rate)\n",
    "    seq_a = np.array([a_new,b_new,c_new])\n",
    "    seq_b = np.array([a,b,c])\n",
    "    if abs(mse(seq_a,seq_b)) < 0.0001:\n",
    "        a,b,c = a_new,b_new,c_new\n",
    "        print('Stopped at:\\n',a_new,b_new,c_new)\n",
    "        break\n",
    "    a,b,c = a_new,b_new,c_new\n",
    "\n",
    "print(\"Took %s Round...\"% round)\n"
   ]
  },
  {
   "cell_type": "code",
   "execution_count": 4,
   "metadata": {},
   "outputs": [
    {
     "data": {
      "image/png": "[encoded data removed]",
      "text/plain": [
       "<matplotlib.figure.Figure at 0x51b2270>"
      ]
     },
     "metadata": {},
     "output_type": "display_data"
    },
    {
     "name": "stdout",
     "output_type": "stream",
     "text": [
      "30\n"
     ]
    },
    {
     "data": {
      "image/png": "[encoded data removed]",
      "text/plain": [
       "<matplotlib.figure.Figure at 0x6695ef0>"
      ]
     },
     "metadata": {},
     "output_type": "display_data"
    }
   ],
   "source": [
    "plt.plot(target,'go')\n",
    "plt.ylabel('target')\n",
    "plt.show()\n",
    "\n",
    "N = len(data)\n",
    "print(N)\n",
    "#modeled = np.zeros(N)\n",
    "modeled = np.zeros(30)\n",
    "for i in range(0, N):\n",
    "    x = data[i]\n",
    "    modeled[i] = a*x**2 + b*x + c\n",
    "\n",
    "\n",
    "plt.plot(modeled,'yo')\n",
    "plt.ylabel('modeled')\n",
    "plt.show()\n",
    "\n"
   ]
  },
  {
   "cell_type": "code",
   "execution_count": null,
   "metadata": {
    "collapsed": true
   },
   "outputs": [],
   "source": []
  }
 ],
 "metadata": {
  "kernelspec": {
   "display_name": "Python 3",
   "language": "python",
   "name": "python3"
  },
  "language_info": {
   "codemirror_mode": {
    "name": "ipython",
    "version": 3
   },
   "file_extension": ".py",
   "mimetype": "text/x-python",
   "name": "python",
   "nbconvert_exporter": "python",
   "pygments_lexer": "ipython3",
   "version": "3.6.2"
  }
 },
 "nbformat": 4,
 "nbformat_minor": 2
}
